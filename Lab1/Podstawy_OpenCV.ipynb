{
 "cells": [
  {
   "cell_type": "markdown",
   "id": "27a310f8",
   "metadata": {},
   "source": [
    "## Wprowadzenie do OpenCV\n",
    "\n",
    "Kilka podstawowych rzeczy, które należy wiedzieć o OpenCV - na przykładach."
   ]
  },
  {
   "cell_type": "code",
   "execution_count": 1,
   "id": "32730990",
   "metadata": {},
   "outputs": [
    {
     "ename": "ModuleNotFoundError",
     "evalue": "No module named 'cv2'",
     "output_type": "error",
     "traceback": [
      "\u001b[1;31m---------------------------------------------------------------------------\u001b[0m",
      "\u001b[1;31mModuleNotFoundError\u001b[0m                       Traceback (most recent call last)",
      "Input \u001b[1;32mIn [1]\u001b[0m, in \u001b[0;36m<cell line: 1>\u001b[1;34m()\u001b[0m\n\u001b[1;32m----> 1\u001b[0m \u001b[38;5;28;01mimport\u001b[39;00m \u001b[38;5;21;01mcv2\u001b[39;00m\n\u001b[0;32m      2\u001b[0m \u001b[38;5;28;01mimport\u001b[39;00m \u001b[38;5;21;01mmatplotlib\u001b[39;00m\u001b[38;5;21;01m.\u001b[39;00m\u001b[38;5;21;01mpyplot\u001b[39;00m \u001b[38;5;28;01mas\u001b[39;00m \u001b[38;5;21;01mplt\u001b[39;00m\n\u001b[0;32m      3\u001b[0m \u001b[38;5;28;01mimport\u001b[39;00m \u001b[38;5;21;01mnumpy\u001b[39;00m \u001b[38;5;28;01mas\u001b[39;00m \u001b[38;5;21;01mnp\u001b[39;00m\n",
      "\u001b[1;31mModuleNotFoundError\u001b[0m: No module named 'cv2'"
     ]
    }
   ],
   "source": [
    "import cv2\n",
    "import matplotlib.pyplot as plt\n",
    "import numpy as np\n",
    "from PIL import Image"
   ]
  },
  {
   "cell_type": "markdown",
   "id": "3bb8c604",
   "metadata": {},
   "source": [
    "Podstawowym obiektem w pythonowskim API OpenCV jest tablica NumPy. Najczęściej bywają typu `uint8` (0-255), ale można pracować na obrazach `float32` (0.0-1.0) lub innych - niektóre funkcje oczekują konkretnych typów na wejściu i należy zwracać na to uwagę."
   ]
  },
  {
   "cell_type": "markdown",
   "id": "0b001943",
   "metadata": {},
   "source": [
    "Za input/output odpowiadają funkcje [`cv2.imread`](https://docs.opencv.org/3.4/d4/da8/group__imgcodecs.html#ga288b8b3da0892bd651fce07b3bbd3a56) i [`cv2.imwrite`](https://docs.opencv.org/3.4/d4/da8/group__imgcodecs.html#gabbc7ef1aa2edfaa87772f1202d67e0ce).\n",
    "Dokumentacja OpenCV dotyczy implementacji C++, ale z reguły będziesz w stanie wydedukować o co chodzi (`const String &` == `str`, itd)."
   ]
  },
  {
   "cell_type": "code",
   "execution_count": 2,
   "id": "cdf65af5",
   "metadata": {},
   "outputs": [
    {
     "name": "stdout",
     "output_type": "stream",
     "text": [
      "<class 'numpy.ndarray'>\n",
      "uint8\n"
     ]
    }
   ],
   "source": [
    "img = cv2.imread('Lena.jpg')\n",
    "print(type(img))\n",
    "print(img.dtype)"
   ]
  },
  {
   "cell_type": "markdown",
   "id": "3d4e6874",
   "metadata": {},
   "source": [
    "Obrazy monochromatyczne mają dwa wymiary (szerokość i wysokość), dla obrazów kolorowych dochodzi trzeci wymiar, tzw. _kanał_, kodujący w określony sposób informację o kolorze. Domyślną przestrzenią barw w OpenCV jest BGR (nie mylić z RGB), ale możemy przechodzić między różnymi innymi przestrzeniami."
   ]
  },
  {
   "cell_type": "code",
   "execution_count": 3,
   "id": "6ea9ce9b",
   "metadata": {},
   "outputs": [
    {
     "data": {
      "text/plain": [
       "(512, 514, 3)"
      ]
     },
     "execution_count": 3,
     "metadata": {},
     "output_type": "execute_result"
    }
   ],
   "source": [
    "img.shape"
   ]
  },
  {
   "cell_type": "markdown",
   "id": "343fdc1c",
   "metadata": {},
   "source": [
    "Proste operacje na obrazach przeprowadzamy jak na zwykłych macierzach. Np. aby wybrać pojedynczy kanał obrazu:"
   ]
  },
  {
   "cell_type": "code",
   "execution_count": 4,
   "id": "3c3c592a",
   "metadata": {},
   "outputs": [
    {
     "data": {
      "text/plain": [
       "(512, 514)"
      ]
     },
     "execution_count": 4,
     "metadata": {},
     "output_type": "execute_result"
    }
   ],
   "source": [
    "red = img[..., 2] # 0 - Blue, 1 - Green, 2 - Red\n",
    "red.shape"
   ]
  },
  {
   "cell_type": "markdown",
   "id": "fb9600ef",
   "metadata": {},
   "source": [
    "Albo, by wyciąć fragment obrazu:"
   ]
  },
  {
   "cell_type": "code",
   "execution_count": 5,
   "id": "49e4b452",
   "metadata": {},
   "outputs": [
    {
     "data": {
      "text/plain": [
       "(100, 150, 3)"
      ]
     },
     "execution_count": 5,
     "metadata": {},
     "output_type": "execute_result"
    }
   ],
   "source": [
    "crop = img[210:310, 220:370, :]\n",
    "crop.shape # wynik nie jest kopią, a widokiem - może być użyteczne"
   ]
  },
  {
   "cell_type": "markdown",
   "id": "37597b0e",
   "metadata": {},
   "source": [
    "Możesz stworzyć nowy obraz tak, jak każdą inną macierz numpy. Pamiętaj jednak o poprawnym układzie wymiarów i typie danych!"
   ]
  },
  {
   "cell_type": "code",
   "execution_count": 6,
   "id": "d736359a",
   "metadata": {},
   "outputs": [
    {
     "data": {
      "text/plain": [
       "array([[0, 0, 0, ..., 0, 0, 0],\n",
       "       [0, 0, 0, ..., 0, 0, 0],\n",
       "       [0, 0, 0, ..., 0, 0, 0],\n",
       "       ...,\n",
       "       [0, 0, 0, ..., 0, 0, 0],\n",
       "       [0, 0, 0, ..., 0, 0, 0],\n",
       "       [0, 0, 0, ..., 0, 0, 0]], dtype=uint8)"
      ]
     },
     "execution_count": 6,
     "metadata": {},
     "output_type": "execute_result"
    }
   ],
   "source": [
    "nowy = np.zeros((32, 32), dtype=np.uint8)\n",
    "nowy"
   ]
  },
  {
   "cell_type": "markdown",
   "id": "f43899ff",
   "metadata": {},
   "source": [
    "OpenCV ma wbudowane funkcje do wyświetlania, [`cv2.imshow`](https://docs.opencv.org/3.4/d7/dfc/group__highgui.html#ga453d42fe4cb60e5723281a89973ee563) i powiązaną [`cv2.waitKey`](https://docs.opencv.org/3.4/d7/dfc/group__highgui.html#ga5628525ad33f52eab17feebcfba38bd7), ale nadają się one bardziej do pisania samodzielnych aplikacji niż pracy w notebookach, gdyż powodują one wyświetlenie osobnego okna.\n",
    "Do wyświetlania obrazów w notebookach możesz skorzystać z `PIL.Image` albo `matplotlib.pyplot.imshow`."
   ]
  },
  {
   "cell_type": "code",
   "execution_count": 7,
   "id": "9b9ad4f5",
   "metadata": {},
   "outputs": [
    {
     "data": {
      "image/png": "[encoded data removed]",
      "text/plain": [
       "<PIL.Image.Image image mode=L size=32x32 at 0x7FECAD987940>"
      ]
     },
     "execution_count": 7,
     "metadata": {},
     "output_type": "execute_result"
    }
   ],
   "source": [
    "Image.fromarray(nowy)"
   ]
  },
  {
   "cell_type": "markdown",
   "id": "8c431d4a",
   "metadata": {},
   "source": [
    "`PIL.Image` oczekuje obrazów monochromatycznych albo RGB, więc w przypadku obrazów kolorowych pamiętaj o konwersji do odpowiedniej przestrzeni!"
   ]
  },
  {
   "cell_type": "code",
   "execution_count": 8,
   "id": "960a898a",
   "metadata": {},
   "outputs": [
    {
     "data": {
      "image/png": "[encoded data removed]",
      "text/plain": [
       "<PIL.Image.Image image mode=RGB size=150x100 at 0x7FECAD6AAD30>"
      ]
     },
     "execution_count": 8,
     "metadata": {},
     "output_type": "execute_result"
    }
   ],
   "source": [
    "Image.fromarray(cv2.cvtColor(crop, cv2.COLOR_BGR2RGB))"
   ]
  },
  {
   "cell_type": "markdown",
   "id": "ba201104",
   "metadata": {},
   "source": [
    "Więcej możliwości poznasz na zajęciach oraz we własnym zakresie."
   ]
  },
  {
   "cell_type": "code",
   "execution_count": 9,
   "id": "8a592697",
   "metadata": {},
   "outputs": [
    {
     "data": {
      "image/png": "[encoded data removed]",
      "text/plain": [
       "<Figure size 432x288 with 1 Axes>"
      ]
     },
     "metadata": {
      "needs_background": "light"
     },
     "output_type": "display_data"
    }
   ],
   "source": [
    "plt.hist(crop[..., 0].flatten(), bins=255);"
   ]
  }
 ],
 "metadata": {
  "kernelspec": {
   "display_name": "Python 3 (ipykernel)",
   "language": "python",
   "name": "python3"
  },
  "language_info": {
   "codemirror_mode": {
    "name": "ipython",
    "version": 3
   },
   "file_extension": ".py",
   "mimetype": "text/x-python",
   "name": "python",
   "nbconvert_exporter": "python",
   "pygments_lexer": "ipython3",
   "version": "3.9.7"
  }
 },
 "nbformat": 4,
 "nbformat_minor": 5
}
